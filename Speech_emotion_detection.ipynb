{
 "cells": [
  {
   "cell_type": "markdown",
   "id": "be7e098e",
   "metadata": {},
   "source": [
    "## Import libraries"
   ]
  },
  {
   "cell_type": "code",
   "execution_count": 1,
   "id": "6a55a964",
   "metadata": {},
   "outputs": [],
   "source": [
    "import gradio as gr\n",
    "import torch\n",
    "import whisper\n",
    "import warnings\n",
    "warnings.filterwarnings('ignore')\n",
    "from transformers import pipeline\n",
    "import os"
   ]
  },
  {
   "cell_type": "markdown",
   "id": "23812cb7",
   "metadata": {},
   "source": [
    "## Import and load models"
   ]
  },
  {
   "cell_type": "code",
   "execution_count": 4,
   "id": "9386e4d9",
   "metadata": {},
   "outputs": [
    {
     "data": {
      "application/vnd.jupyter.widget-view+json": {
       "model_id": "65834736ba8541d59f2f15764c4f28b8",
       "version_major": 2,
       "version_minor": 0
      },
      "text/plain": [
       "Downloading (…)lve/main/config.json:   0%|          | 0.00/1.97k [00:00<?, ?B/s]"
      ]
     },
     "metadata": {},
     "output_type": "display_data"
    },
    {
     "data": {
      "application/vnd.jupyter.widget-view+json": {
       "model_id": "0b6a1bcf510e4955a71dbe2a67ca6fd5",
       "version_major": 2,
       "version_minor": 0
      },
      "text/plain": [
       "Downloading pytorch_model.bin:   0%|          | 0.00/967M [00:00<?, ?B/s]"
      ]
     },
     "metadata": {},
     "output_type": "display_data"
    },
    {
     "data": {
      "application/vnd.jupyter.widget-view+json": {
       "model_id": "748846c382e04cb6a9f15c84c21f61b9",
       "version_major": 2,
       "version_minor": 0
      },
      "text/plain": [
       "Downloading (…)neration_config.json:   0%|          | 0.00/3.51k [00:00<?, ?B/s]"
      ]
     },
     "metadata": {},
     "output_type": "display_data"
    },
    {
     "data": {
      "application/vnd.jupyter.widget-view+json": {
       "model_id": "68304ef63a564288afb4e984d2783d68",
       "version_major": 2,
       "version_minor": 0
      },
      "text/plain": [
       "Downloading (…)okenizer_config.json:   0%|          | 0.00/842 [00:00<?, ?B/s]"
      ]
     },
     "metadata": {},
     "output_type": "display_data"
    },
    {
     "data": {
      "application/vnd.jupyter.widget-view+json": {
       "model_id": "f746a587d6a445e08742ca8fdb0e7130",
       "version_major": 2,
       "version_minor": 0
      },
      "text/plain": [
       "Downloading (…)olve/main/vocab.json:   0%|          | 0.00/1.04M [00:00<?, ?B/s]"
      ]
     },
     "metadata": {},
     "output_type": "display_data"
    },
    {
     "data": {
      "application/vnd.jupyter.widget-view+json": {
       "model_id": "654c3f85a63c49f3bd038f9d813d76a5",
       "version_major": 2,
       "version_minor": 0
      },
      "text/plain": [
       "Downloading (…)/main/tokenizer.json:   0%|          | 0.00/2.20M [00:00<?, ?B/s]"
      ]
     },
     "metadata": {},
     "output_type": "display_data"
    },
    {
     "data": {
      "application/vnd.jupyter.widget-view+json": {
       "model_id": "2fd6a952bbda4ce78d3a0dcc7129f669",
       "version_major": 2,
       "version_minor": 0
      },
      "text/plain": [
       "Downloading (…)olve/main/merges.txt:   0%|          | 0.00/494k [00:00<?, ?B/s]"
      ]
     },
     "metadata": {},
     "output_type": "display_data"
    },
    {
     "data": {
      "application/vnd.jupyter.widget-view+json": {
       "model_id": "6abf2b5398134b39a5617c68eec153b7",
       "version_major": 2,
       "version_minor": 0
      },
      "text/plain": [
       "Downloading (…)main/normalizer.json:   0%|          | 0.00/52.7k [00:00<?, ?B/s]"
      ]
     },
     "metadata": {},
     "output_type": "display_data"
    },
    {
     "data": {
      "application/vnd.jupyter.widget-view+json": {
       "model_id": "a32a21bf28aa4e1aaeedbfd73761f707",
       "version_major": 2,
       "version_minor": 0
      },
      "text/plain": [
       "Downloading (…)in/added_tokens.json:   0%|          | 0.00/2.08k [00:00<?, ?B/s]"
      ]
     },
     "metadata": {},
     "output_type": "display_data"
    },
    {
     "data": {
      "application/vnd.jupyter.widget-view+json": {
       "model_id": "da36e3159e3c42349af77c2ca2c962a2",
       "version_major": 2,
       "version_minor": 0
      },
      "text/plain": [
       "Downloading (…)cial_tokens_map.json:   0%|          | 0.00/2.08k [00:00<?, ?B/s]"
      ]
     },
     "metadata": {},
     "output_type": "display_data"
    },
    {
     "data": {
      "application/vnd.jupyter.widget-view+json": {
       "model_id": "f1cd2eb06b8c403ba4fa0b4381fa74d5",
       "version_major": 2,
       "version_minor": 0
      },
      "text/plain": [
       "Downloading (…)rocessor_config.json:   0%|          | 0.00/185k [00:00<?, ?B/s]"
      ]
     },
     "metadata": {},
     "output_type": "display_data"
    }
   ],
   "source": [
    "MODEL_NAME = \"openai/whisper-small\"\n",
    "BATCH_SIZE = 8\n",
    "\n",
    "device = 0 if torch.cuda.is_available() else \"cpu\"\n",
    "\n",
    "pipe = pipeline(\n",
    "    task=\"automatic-speech-recognition\",\n",
    "    model=MODEL_NAME,\n",
    "    chunk_length_s=30,\n",
    "    device=device)\n"
   ]
  },
  {
   "cell_type": "code",
   "execution_count": 5,
   "id": "323b2d0e",
   "metadata": {},
   "outputs": [
    {
     "data": {
      "application/vnd.jupyter.widget-view+json": {
       "model_id": "ab37917a7eda45e18a00050702b44a09",
       "version_major": 2,
       "version_minor": 0
      },
      "text/plain": [
       "Downloading (…)tencepiece.bpe.model:   0%|          | 0.00/5.07M [00:00<?, ?B/s]"
      ]
     },
     "metadata": {},
     "output_type": "display_data"
    },
    {
     "data": {
      "application/vnd.jupyter.widget-view+json": {
       "model_id": "7a59bf18058343779b406bb66860e1c1",
       "version_major": 2,
       "version_minor": 0
      },
      "text/plain": [
       "Downloading (…)/main/tokenizer.json:   0%|          | 0.00/9.10M [00:00<?, ?B/s]"
      ]
     },
     "metadata": {},
     "output_type": "display_data"
    }
   ],
   "source": [
    "emotion_classifier = pipeline(\"text-classification\",model='MilaNLProc/xlm-emo-t', return_all_scores=True)"
   ]
  },
  {
   "cell_type": "markdown",
   "id": "d6c14b75",
   "metadata": {},
   "source": [
    "## Audio transcription"
   ]
  },
  {
   "cell_type": "code",
   "execution_count": 6,
   "id": "b9d039f4",
   "metadata": {},
   "outputs": [],
   "source": [
    "def transcribe(microphone, file_upload, task):\n",
    "    output = \"\"\n",
    "    if (microphone is not None) and (file_upload is not None):\n",
    "        warn_output = (\n",
    "            \"WARNING: You've uploaded an audio file and used the microphone. \"\n",
    "            \"The recorded file from the microphone will be used and the uploaded audio will be discarded.\\n\"\n",
    "        )\n",
    "\n",
    "    elif (microphone is None) and (file_upload is None):\n",
    "        raise gr.Error(\"You have to either use the microphone or upload an audio file\")\n",
    "\n",
    "    file = microphone if microphone is not None else file_upload\n",
    "\n",
    "    text = pipe(file, batch_size=BATCH_SIZE, generate_kwargs={\"task\": task})[\"text\"]\n",
    "\n",
    "    return output + text"
   ]
  },
  {
   "cell_type": "markdown",
   "id": "a57c5990",
   "metadata": {},
   "source": [
    "## Emotion detection"
   ]
  },
  {
   "cell_type": "code",
   "execution_count": 7,
   "id": "3997db87",
   "metadata": {},
   "outputs": [],
   "source": [
    "def translate_and_classify(audio):\n",
    "    text_result = transcribe(audio, None, \"transcribe\")    \n",
    "    emotion = emotion_classifier(text_result)\n",
    "    detected_emotion = {}\n",
    "    for emotion in emotion[0]:\n",
    "        detected_emotion[emotion[\"label\"]] = emotion[\"score\"]\n",
    "    return text_result, detected_emotion"
   ]
  },
  {
   "cell_type": "markdown",
   "id": "ec2fc70d",
   "metadata": {},
   "source": [
    "## App Interface"
   ]
  },
  {
   "cell_type": "code",
   "execution_count": 11,
   "id": "5c67ea35",
   "metadata": {},
   "outputs": [
    {
     "name": "stdout",
     "output_type": "stream",
     "text": [
      "Running on local URL:  http://127.0.0.1:7863\n",
      "\n",
      "To create a public link, set `share=True` in `launch()`.\n"
     ]
    },
    {
     "data": {
      "text/html": [
       "<div><iframe src=\"http://127.0.0.1:7863/\" width=\"100%\" height=\"500\" allow=\"autoplay; camera; microphone; clipboard-read; clipboard-write;\" frameborder=\"0\" allowfullscreen></iframe></div>"
      ],
      "text/plain": [
       "<IPython.core.display.HTML object>"
      ]
     },
     "metadata": {},
     "output_type": "display_data"
    },
    {
     "data": {
      "text/plain": []
     },
     "execution_count": 11,
     "metadata": {},
     "output_type": "execute_result"
    }
   ],
   "source": [
    "with gr.Blocks() as demo:\n",
    "\n",
    "    gr.Markdown(\n",
    "    \"\"\"    # Emotion Detection from Speech\n",
    "    \n",
    "            ##### Detection of anger, sadness, joy, fear in speech using OpenAI Whisper and XLM-RoBERTa \n",
    "            \n",
    "            \"\"\")\n",
    "    \n",
    "    with gr.Column():\n",
    "        with gr.Tab(\"Record Audio\"):\n",
    "            audio_input_r = gr.Audio(label = 'Record Audio Input',source=\"microphone\",type=\"filepath\")\n",
    "            transcribe_audio_r = gr.Button('Transcribe')\n",
    "        \n",
    "        with gr.Tab(\"Upload Audio as File\"):\n",
    "            audio_input_u = gr.Audio(label = 'Upload Audio',source=\"upload\",type=\"filepath\")\n",
    "            transcribe_audio_u = gr.Button('Transcribe')\n",
    "\n",
    "        with gr.Row():\n",
    "            transcript_output = gr.Textbox(label=\"Transcription in the language of speech/audio\", lines = 3)\n",
    "            emotion_output = gr.Label(label = \"Detected Emotion\")\n",
    "    \n",
    "    transcribe_audio_r.click(translate_and_classify, inputs = audio_input_r, outputs = [transcript_output,emotion_output])\n",
    "    transcribe_audio_u.click(translate_and_classify, inputs = audio_input_u, outputs = [transcript_output,emotion_output])       \n",
    "    \n",
    "demo.launch(inbrowser=True)"
   ]
  }
 ],
 "metadata": {
  "kernelspec": {
   "display_name": "Python 3 (ipykernel)",
   "language": "python",
   "name": "python3"
  },
  "language_info": {
   "codemirror_mode": {
    "name": "ipython",
    "version": 3
   },
   "file_extension": ".py",
   "mimetype": "text/x-python",
   "name": "python",
   "nbconvert_exporter": "python",
   "pygments_lexer": "ipython3",
   "version": "3.9.8"
  }
 },
 "nbformat": 4,
 "nbformat_minor": 5
}
